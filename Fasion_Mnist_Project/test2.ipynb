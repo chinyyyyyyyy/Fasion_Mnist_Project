{
 "cells": [
  {
   "cell_type": "code",
   "execution_count": 1,
   "metadata": {},
   "outputs": [
    {
     "name": "stderr",
     "output_type": "stream",
     "text": [
      "Using TensorFlow backend.\n"
     ]
    }
   ],
   "source": [
    "import keras\n",
    "from keras.models import Sequential\n",
    "from keras.layers import Conv2D, MaxPooling2D, Dense, Flatten, Dropout\n",
    "from keras.optimizers import Adam\n",
    "from keras.callbacks import TensorBoard\n",
    "\n",
    "\n",
    "import numpy as np\n",
    "import pandas as pd\n",
    "import matplotlib.pyplot as plt\n",
    "from sklearn.model_selection import train_test_split"
   ]
  },
  {
   "cell_type": "code",
   "execution_count": 2,
   "metadata": {},
   "outputs": [],
   "source": [
    "train_df = pd.read_csv(r\"dataset\\fashion-mnist_train.csv\")\n",
    "test_df = pd.read_csv(r\"dataset\\fashion-mnist_test.csv\")\n",
    "\n",
    "train_data = np.array(train_df, dtype='float32')\n",
    "test_data = np.array(test_df,dtype='float32')\n",
    "\n",
    "x_train = train_data[:,1:]/255\n",
    "y_train = train_data[:,0]\n",
    "\n",
    "x_test = test_data[:,1:]/255\n",
    "y_test = test_data[:,0]"
   ]
  },
  {
   "cell_type": "code",
   "execution_count": 3,
   "metadata": {},
   "outputs": [],
   "source": [
    "x_train,x_validate,y_train,y_validate = train_test_split(\n",
    "    x_train, y_train, test_size=0.2, random_state=12345,\n",
    ")"
   ]
  },
  {
   "cell_type": "code",
   "execution_count": 4,
   "metadata": {},
   "outputs": [],
   "source": [
    "im_rows = 28\n",
    "im_cols = 28\n",
    "batch_size = 512\n",
    "im_shape = (im_rows,im_cols,1)\n",
    "\n",
    "x_train = x_train.reshape(x_train.shape[0],*im_shape)\n",
    "x_test = x_test.reshape(x_test.shape[0],*im_shape)\n",
    "x_validate = x_validate.reshape(x_validate.shape[0],*im_shape)"
   ]
  },
  {
   "cell_type": "code",
   "execution_count": 5,
   "metadata": {},
   "outputs": [],
   "source": [
    "cnn_model = Sequential([\n",
    "    Conv2D(32, kernel_size=3, activation='relu', \n",
    "           input_shape=im_shape, kernel_initializer='he_normal', name='Conv2D-1'),\n",
    "    MaxPooling2D(pool_size=2, name='MaxPool'),\n",
    "    Dropout(0.25, name='Dropout-1'),\n",
    "    Conv2D(64, kernel_size=3, activation='relu', name='Conv2D-2'),\n",
    "    Dropout(0.25, name='Dropout-2'),\n",
    "    Conv2D(128, kernel_size=3, activation='relu', name='Conv2D-3'),\n",
    "    Dropout(0.4, name='Dropout-3'),\n",
    "    Conv2D(256, kernel_size=3, activation='relu', name='Conv2D-4'),\n",
    "    Dropout(0.8, name='Dropout-4'),\n",
    "    Flatten(name='flatten'),\n",
    "    Dense(256, activation='relu', name='Dense'),\n",
    "    Dropout(0.8, name='Dropout'),\n",
    "    Dense(10, activation='softmax', name='Output')\n",
    "])"
   ]
  },
  {
   "cell_type": "code",
   "execution_count": 8,
   "metadata": {},
   "outputs": [],
   "source": [
    "from keras.callbacks import TensorBoard\n",
    "tensorboard = TensorBoard(\n",
    "    log_dir=r'logs\\{}'.format('cnn_1layer'),\n",
    "    write_graph=True,\n",
    "    write_grads=True,\n",
    "    histogram_freq=1,\n",
    "    write_images=True,\n",
    ")\n",
    "\n",
    "cnn_model.compile(\n",
    "    loss ='sparse_categorical_crossentropy',\n",
    "    optimizer = Adam(lr=0.001),\n",
    "    metrics=['accuracy']\n",
    ")"
   ]
  },
  {
   "cell_type": "code",
   "execution_count": 9,
   "metadata": {},
   "outputs": [
    {
     "name": "stdout",
     "output_type": "stream",
     "text": [
      "Train on 48000 samples, validate on 12000 samples\n",
      "Epoch 1/50\n",
      "48000/48000 [==============================] - 138s 3ms/step - loss: 1.3881 - acc: 0.4861 - val_loss: 0.6129 - val_acc: 0.7623\n",
      "Epoch 2/50\n",
      "48000/48000 [==============================] - 142s 3ms/step - loss: 0.7146 - acc: 0.7327 - val_loss: 0.5142 - val_acc: 0.7959\n",
      "Epoch 3/50\n",
      "48000/48000 [==============================] - 152s 3ms/step - loss: 0.6164 - acc: 0.7670 - val_loss: 0.4511 - val_acc: 0.8204\n",
      "Epoch 4/50\n",
      "48000/48000 [==============================] - 152s 3ms/step - loss: 0.5567 - acc: 0.7911 - val_loss: 0.4170 - val_acc: 0.8444\n",
      "Epoch 5/50\n",
      "48000/48000 [==============================] - 137s 3ms/step - loss: 0.5220 - acc: 0.8104 - val_loss: 0.3801 - val_acc: 0.8608\n",
      "Epoch 6/50\n",
      "48000/48000 [==============================] - 136s 3ms/step - loss: 0.4823 - acc: 0.8260 - val_loss: 0.3397 - val_acc: 0.8723\n",
      "Epoch 7/50\n",
      "48000/48000 [==============================] - 137s 3ms/step - loss: 0.4478 - acc: 0.8404 - val_loss: 0.3181 - val_acc: 0.8817\n",
      "Epoch 8/50\n",
      "48000/48000 [==============================] - 137s 3ms/step - loss: 0.4287 - acc: 0.8466 - val_loss: 0.3075 - val_acc: 0.8913\n",
      "Epoch 9/50\n",
      "48000/48000 [==============================] - 136s 3ms/step - loss: 0.4096 - acc: 0.8558 - val_loss: 0.2885 - val_acc: 0.8944\n",
      "Epoch 10/50\n",
      "48000/48000 [==============================] - 136s 3ms/step - loss: 0.3966 - acc: 0.8585 - val_loss: 0.2930 - val_acc: 0.8927\n",
      "Epoch 11/50\n",
      "48000/48000 [==============================] - 137s 3ms/step - loss: 0.3812 - acc: 0.8671 - val_loss: 0.2727 - val_acc: 0.9014\n",
      "Epoch 12/50\n",
      "48000/48000 [==============================] - 136s 3ms/step - loss: 0.3729 - acc: 0.8682 - val_loss: 0.2700 - val_acc: 0.9023\n",
      "Epoch 13/50\n",
      "48000/48000 [==============================] - 136s 3ms/step - loss: 0.3582 - acc: 0.8735 - val_loss: 0.2600 - val_acc: 0.9036\n",
      "Epoch 14/50\n",
      "48000/48000 [==============================] - 146s 3ms/step - loss: 0.3499 - acc: 0.8767 - val_loss: 0.2623 - val_acc: 0.9034\n",
      "Epoch 15/50\n",
      "48000/48000 [==============================] - 145s 3ms/step - loss: 0.3409 - acc: 0.8798 - val_loss: 0.2503 - val_acc: 0.9088\n",
      "Epoch 16/50\n",
      "48000/48000 [==============================] - 137s 3ms/step - loss: 0.3359 - acc: 0.8832 - val_loss: 0.2470 - val_acc: 0.9122\n",
      "Epoch 17/50\n",
      "48000/48000 [==============================] - 145s 3ms/step - loss: 0.3360 - acc: 0.8818 - val_loss: 0.2425 - val_acc: 0.9104\n",
      "Epoch 18/50\n",
      "48000/48000 [==============================] - 137s 3ms/step - loss: 0.3267 - acc: 0.8839 - val_loss: 0.2496 - val_acc: 0.9082\n",
      "Epoch 19/50\n",
      "48000/48000 [==============================] - 136s 3ms/step - loss: 0.3194 - acc: 0.8863 - val_loss: 0.2414 - val_acc: 0.9123\n",
      "Epoch 20/50\n",
      "48000/48000 [==============================] - 136s 3ms/step - loss: 0.3163 - acc: 0.8857 - val_loss: 0.2340 - val_acc: 0.9130\n",
      "Epoch 21/50\n",
      "48000/48000 [==============================] - 136s 3ms/step - loss: 0.3103 - acc: 0.8909 - val_loss: 0.2372 - val_acc: 0.9141\n",
      "Epoch 22/50\n",
      "48000/48000 [==============================] - 138s 3ms/step - loss: 0.3086 - acc: 0.8901 - val_loss: 0.2325 - val_acc: 0.9149\n",
      "Epoch 23/50\n",
      "48000/48000 [==============================] - 137s 3ms/step - loss: 0.3022 - acc: 0.8917 - val_loss: 0.2311 - val_acc: 0.9132\n",
      "Epoch 24/50\n",
      "48000/48000 [==============================] - 137s 3ms/step - loss: 0.2987 - acc: 0.8925 - val_loss: 0.2247 - val_acc: 0.9166\n",
      "Epoch 25/50\n",
      "48000/48000 [==============================] - 137s 3ms/step - loss: 0.2983 - acc: 0.8941 - val_loss: 0.2258 - val_acc: 0.9162\n",
      "Epoch 26/50\n",
      "48000/48000 [==============================] - 137s 3ms/step - loss: 0.2948 - acc: 0.8947 - val_loss: 0.2404 - val_acc: 0.9123\n",
      "Epoch 27/50\n",
      "48000/48000 [==============================] - 137s 3ms/step - loss: 0.2909 - acc: 0.8966 - val_loss: 0.2218 - val_acc: 0.9173\n",
      "Epoch 28/50\n",
      "48000/48000 [==============================] - 137s 3ms/step - loss: 0.2853 - acc: 0.8986 - val_loss: 0.2166 - val_acc: 0.9205\n",
      "Epoch 29/50\n",
      "48000/48000 [==============================] - 139s 3ms/step - loss: 0.2864 - acc: 0.8985 - val_loss: 0.2205 - val_acc: 0.9172\n",
      "Epoch 30/50\n",
      "48000/48000 [==============================] - 140s 3ms/step - loss: 0.2830 - acc: 0.8998 - val_loss: 0.2139 - val_acc: 0.9225\n",
      "Epoch 31/50\n",
      "48000/48000 [==============================] - 137s 3ms/step - loss: 0.2799 - acc: 0.9007 - val_loss: 0.2178 - val_acc: 0.9204\n",
      "Epoch 32/50\n",
      "48000/48000 [==============================] - 137s 3ms/step - loss: 0.2759 - acc: 0.9027 - val_loss: 0.2152 - val_acc: 0.9202\n",
      "Epoch 33/50\n",
      "48000/48000 [==============================] - 137s 3ms/step - loss: 0.2714 - acc: 0.9030 - val_loss: 0.2123 - val_acc: 0.9233\n",
      "Epoch 34/50\n",
      "48000/48000 [==============================] - 137s 3ms/step - loss: 0.2724 - acc: 0.9040 - val_loss: 0.2099 - val_acc: 0.9226\n",
      "Epoch 35/50\n",
      "48000/48000 [==============================] - 143s 3ms/step - loss: 0.2676 - acc: 0.9038 - val_loss: 0.2101 - val_acc: 0.9217\n",
      "Epoch 36/50\n",
      "48000/48000 [==============================] - 138s 3ms/step - loss: 0.2710 - acc: 0.9050 - val_loss: 0.2152 - val_acc: 0.9208\n",
      "Epoch 37/50\n",
      "48000/48000 [==============================] - 139s 3ms/step - loss: 0.2702 - acc: 0.9033 - val_loss: 0.2093 - val_acc: 0.9232\n",
      "Epoch 38/50\n",
      "48000/48000 [==============================] - 144s 3ms/step - loss: 0.2653 - acc: 0.9051 - val_loss: 0.2047 - val_acc: 0.9242\n",
      "Epoch 39/50\n",
      "48000/48000 [==============================] - 163s 3ms/step - loss: 0.2594 - acc: 0.9073 - val_loss: 0.2055 - val_acc: 0.9249\n",
      "Epoch 40/50\n",
      "48000/48000 [==============================] - 158s 3ms/step - loss: 0.2602 - acc: 0.9073 - val_loss: 0.2092 - val_acc: 0.9240\n",
      "Epoch 41/50\n",
      "48000/48000 [==============================] - 179s 4ms/step - loss: 0.2608 - acc: 0.9054 - val_loss: 0.2025 - val_acc: 0.9256\n",
      "Epoch 42/50\n",
      "48000/48000 [==============================] - 174s 4ms/step - loss: 0.2575 - acc: 0.9072 - val_loss: 0.2064 - val_acc: 0.9245\n",
      "Epoch 43/50\n",
      "48000/48000 [==============================] - 148s 3ms/step - loss: 0.2590 - acc: 0.9064 - val_loss: 0.2079 - val_acc: 0.9226\n",
      "Epoch 44/50\n",
      "48000/48000 [==============================] - 142s 3ms/step - loss: 0.2551 - acc: 0.9085 - val_loss: 0.2009 - val_acc: 0.9273\n",
      "Epoch 45/50\n",
      "48000/48000 [==============================] - 142s 3ms/step - loss: 0.2512 - acc: 0.9111 - val_loss: 0.2032 - val_acc: 0.9256\n",
      "Epoch 46/50\n",
      "48000/48000 [==============================] - 140s 3ms/step - loss: 0.2546 - acc: 0.9099 - val_loss: 0.2124 - val_acc: 0.9216\n",
      "Epoch 47/50\n",
      "48000/48000 [==============================] - 140s 3ms/step - loss: 0.2519 - acc: 0.9096 - val_loss: 0.2038 - val_acc: 0.9252\n",
      "Epoch 48/50\n",
      "48000/48000 [==============================] - 138s 3ms/step - loss: 0.2545 - acc: 0.9092 - val_loss: 0.2033 - val_acc: 0.9273\n",
      "Epoch 49/50\n",
      "48000/48000 [==============================] - 138s 3ms/step - loss: 0.2480 - acc: 0.9109 - val_loss: 0.2008 - val_acc: 0.9282\n",
      "Epoch 50/50\n",
      "48000/48000 [==============================] - 137s 3ms/step - loss: 0.2494 - acc: 0.9096 - val_loss: 0.2001 - val_acc: 0.9261\n"
     ]
    },
    {
     "data": {
      "text/plain": [
       "<keras.callbacks.History at 0x1da18862ac8>"
      ]
     },
     "execution_count": 9,
     "metadata": {},
     "output_type": "execute_result"
    }
   ],
   "source": [
    "cnn_model.fit(\n",
    "    x_train, y_train, batch_size=batch_size,\n",
    "    epochs=50, verbose=1,\n",
    "    validation_data=(x_validate,y_validate),\n",
    "    callbacks=[tensorboard]\n",
    ")"
   ]
  },
  {
   "cell_type": "code",
   "execution_count": 11,
   "metadata": {},
   "outputs": [
    {
     "name": "stdout",
     "output_type": "stream",
     "text": [
      "test loss : 0.198485\n",
      "test score : 0.927200\n"
     ]
    }
   ],
   "source": [
    "score = cnn_model.evaluate(x_test,y_test,verbose=0)\n",
    "\n",
    "print('test loss : {:4f}'.format(score[0]))\n",
    "print('test score : {:4f}'.format(score[1]))"
   ]
  },
  {
   "cell_type": "code",
   "execution_count": null,
   "metadata": {},
   "outputs": [],
   "source": []
  }
 ],
 "metadata": {
  "kernelspec": {
   "display_name": "Python 3",
   "language": "python",
   "name": "python3"
  },
  "language_info": {
   "codemirror_mode": {
    "name": "ipython",
    "version": 3
   },
   "file_extension": ".py",
   "mimetype": "text/x-python",
   "name": "python",
   "nbconvert_exporter": "python",
   "pygments_lexer": "ipython3",
   "version": "3.6.1"
  }
 },
 "nbformat": 4,
 "nbformat_minor": 2
}
