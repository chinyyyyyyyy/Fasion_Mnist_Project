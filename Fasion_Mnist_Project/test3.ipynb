{
 "cells": [
  {
   "cell_type": "code",
   "execution_count": 1,
   "metadata": {},
   "outputs": [
    {
     "name": "stderr",
     "output_type": "stream",
     "text": [
      "Using TensorFlow backend.\n"
     ]
    }
   ],
   "source": [
    "import keras\n",
    "from keras.models import Sequential\n",
    "from keras.layers import Conv2D, MaxPooling2D, Dense, Flatten, Dropout\n",
    "from keras.optimizers import Adam\n",
    "from keras.callbacks import TensorBoard\n",
    "\n",
    "\n",
    "import numpy as np\n",
    "import pandas as pd\n",
    "import matplotlib.pyplot as plt\n",
    "from sklearn.model_selection import train_test_split"
   ]
  },
  {
   "cell_type": "code",
   "execution_count": 2,
   "metadata": {},
   "outputs": [],
   "source": [
    "train_df = pd.read_csv(r\"dataset\\fashion-mnist_train.csv\")\n",
    "test_df = pd.read_csv(r\"dataset\\fashion-mnist_test.csv\")\n",
    "\n",
    "train_data = np.array(train_df, dtype='float32')\n",
    "test_data = np.array(test_df,dtype='float32')\n",
    "\n",
    "x_train = train_data[:,1:]/255\n",
    "y_train = train_data[:,0]\n",
    "\n",
    "x_test = test_data[:,1:]/255\n",
    "y_test = test_data[:,0]"
   ]
  },
  {
   "cell_type": "code",
   "execution_count": 3,
   "metadata": {},
   "outputs": [],
   "source": [
    "x_train,x_validate,y_train,y_validate = train_test_split(\n",
    "    x_train, y_train, test_size=0.2, random_state=12345,\n",
    ")"
   ]
  },
  {
   "cell_type": "code",
   "execution_count": 4,
   "metadata": {},
   "outputs": [],
   "source": [
    "im_rows = 28\n",
    "im_cols = 28\n",
    "batch_size = 512\n",
    "im_shape = (im_rows,im_cols,1)\n",
    "\n",
    "x_train = x_train.reshape(x_train.shape[0],*im_shape)\n",
    "x_test = x_test.reshape(x_test.shape[0],*im_shape)\n",
    "x_validate = x_validate.reshape(x_validate.shape[0],*im_shape)"
   ]
  },
  {
   "cell_type": "code",
   "execution_count": 5,
   "metadata": {},
   "outputs": [],
   "source": [
    "cnn_model = Sequential([\n",
    "    Conv2D(32, kernel_size=3, activation='relu', \n",
    "           input_shape=im_shape, kernel_initializer='he_normal', name='Conv2D-1'),\n",
    "    MaxPooling2D(pool_size=2, name='MaxPool'),\n",
    "    Dropout(0.25, name='Dropout-1'),\n",
    "    Conv2D(64, kernel_size=3, activation='relu', name='Conv2D-2'),\n",
    "    Dropout(0.25, name='Dropout-2'),\n",
    "    Conv2D(128, kernel_size=3, activation='relu', name='Conv2D-3'),\n",
    "    Dropout(0.4, name='Dropout-3'),\n",
    "    Conv2D(256, kernel_size=3, activation='relu', name='Conv2D-4'),\n",
    "    Dropout(0.6, name='Dropout-4'),\n",
    "    Flatten(name='flatten'),\n",
    "    Dense(256, activation='relu', name='Dense'),\n",
    "    Dropout(0.6, name='Dropout'),\n",
    "    Dense(10, activation='softmax', name='Output')\n",
    "])"
   ]
  },
  {
   "cell_type": "code",
   "execution_count": 6,
   "metadata": {},
   "outputs": [],
   "source": [
    "from keras.callbacks import TensorBoard\n",
    "tensorboard = TensorBoard(\n",
    "    log_dir=r'logs\\{}'.format('cnn_2layer'),\n",
    "    write_graph=True,\n",
    "    write_grads=True,\n",
    "    histogram_freq=1,\n",
    "    write_images=True,\n",
    ")\n",
    "\n",
    "cnn_model.compile(\n",
    "    loss ='sparse_categorical_crossentropy',\n",
    "    optimizer = Adam(lr=0.001),\n",
    "    metrics=['accuracy']\n",
    ")"
   ]
  },
  {
   "cell_type": "code",
   "execution_count": 7,
   "metadata": {},
   "outputs": [
    {
     "name": "stdout",
     "output_type": "stream",
     "text": [
      "Train on 48000 samples, validate on 12000 samples\n",
      "Epoch 1/75\n",
      "48000/48000 [==============================] - 137s 3ms/step - loss: 1.0642 - acc: 0.6088 - val_loss: 0.5427 - val_acc: 0.7872\n",
      "Epoch 2/75\n",
      "48000/48000 [==============================] - 137s 3ms/step - loss: 0.5935 - acc: 0.7784 - val_loss: 0.4464 - val_acc: 0.8293\n",
      "Epoch 3/75\n",
      "48000/48000 [==============================] - 137s 3ms/step - loss: 0.5075 - acc: 0.8125 - val_loss: 0.3840 - val_acc: 0.8568\n",
      "Epoch 4/75\n",
      "48000/48000 [==============================] - 137s 3ms/step - loss: 0.4557 - acc: 0.8337 - val_loss: 0.3425 - val_acc: 0.8777\n",
      "Epoch 5/75\n",
      "48000/48000 [==============================] - 137s 3ms/step - loss: 0.4177 - acc: 0.8476 - val_loss: 0.3149 - val_acc: 0.8849\n",
      "Epoch 6/75\n",
      "48000/48000 [==============================] - 137s 3ms/step - loss: 0.3858 - acc: 0.8612 - val_loss: 0.2995 - val_acc: 0.8896\n",
      "Epoch 7/75\n",
      "48000/48000 [==============================] - 137s 3ms/step - loss: 0.3687 - acc: 0.8669 - val_loss: 0.2837 - val_acc: 0.8946\n",
      "Epoch 8/75\n",
      "48000/48000 [==============================] - 138s 3ms/step - loss: 0.3481 - acc: 0.8739 - val_loss: 0.2857 - val_acc: 0.8937\n",
      "Epoch 9/75\n",
      "48000/48000 [==============================] - 138s 3ms/step - loss: 0.3314 - acc: 0.8807 - val_loss: 0.2607 - val_acc: 0.9038\n",
      "Epoch 10/75\n",
      "48000/48000 [==============================] - 138s 3ms/step - loss: 0.3189 - acc: 0.8846 - val_loss: 0.2555 - val_acc: 0.9037\n",
      "Epoch 11/75\n",
      "48000/48000 [==============================] - 138s 3ms/step - loss: 0.3069 - acc: 0.8896 - val_loss: 0.2503 - val_acc: 0.9050\n",
      "Epoch 12/75\n",
      "48000/48000 [==============================] - 137s 3ms/step - loss: 0.2985 - acc: 0.8916 - val_loss: 0.2420 - val_acc: 0.9077\n",
      "Epoch 13/75\n",
      "48000/48000 [==============================] - 138s 3ms/step - loss: 0.2898 - acc: 0.8952 - val_loss: 0.2365 - val_acc: 0.9119\n",
      "Epoch 14/75\n",
      "48000/48000 [==============================] - 136s 3ms/step - loss: 0.2794 - acc: 0.8985 - val_loss: 0.2362 - val_acc: 0.9098\n",
      "Epoch 15/75\n",
      "48000/48000 [==============================] - 137s 3ms/step - loss: 0.2739 - acc: 0.9004 - val_loss: 0.2309 - val_acc: 0.9133\n",
      "Epoch 16/75\n",
      "48000/48000 [==============================] - 138s 3ms/step - loss: 0.2686 - acc: 0.9031 - val_loss: 0.2276 - val_acc: 0.9157\n",
      "Epoch 17/75\n",
      "48000/48000 [==============================] - 138s 3ms/step - loss: 0.2634 - acc: 0.9038 - val_loss: 0.2245 - val_acc: 0.9172\n",
      "Epoch 18/75\n",
      "48000/48000 [==============================] - 137s 3ms/step - loss: 0.2568 - acc: 0.9062 - val_loss: 0.2236 - val_acc: 0.9171\n",
      "Epoch 19/75\n",
      "48000/48000 [==============================] - 137s 3ms/step - loss: 0.2527 - acc: 0.9085 - val_loss: 0.2176 - val_acc: 0.9172\n",
      "Epoch 20/75\n",
      "48000/48000 [==============================] - 138s 3ms/step - loss: 0.2475 - acc: 0.9100 - val_loss: 0.2139 - val_acc: 0.9195\n",
      "Epoch 21/75\n",
      "48000/48000 [==============================] - 137s 3ms/step - loss: 0.2425 - acc: 0.9119 - val_loss: 0.2130 - val_acc: 0.9185\n",
      "Epoch 22/75\n",
      "48000/48000 [==============================] - 137s 3ms/step - loss: 0.2380 - acc: 0.9129 - val_loss: 0.2176 - val_acc: 0.9170\n",
      "Epoch 23/75\n",
      "48000/48000 [==============================] - 137s 3ms/step - loss: 0.2369 - acc: 0.9145 - val_loss: 0.2037 - val_acc: 0.9252\n",
      "Epoch 24/75\n",
      "48000/48000 [==============================] - 137s 3ms/step - loss: 0.2294 - acc: 0.9158 - val_loss: 0.2086 - val_acc: 0.9216\n",
      "Epoch 25/75\n",
      "48000/48000 [==============================] - 137s 3ms/step - loss: 0.2257 - acc: 0.9179 - val_loss: 0.2037 - val_acc: 0.9245\n",
      "Epoch 26/75\n",
      "48000/48000 [==============================] - 137s 3ms/step - loss: 0.2231 - acc: 0.9178 - val_loss: 0.2006 - val_acc: 0.9258\n",
      "Epoch 27/75\n",
      "48000/48000 [==============================] - 137s 3ms/step - loss: 0.2207 - acc: 0.9198 - val_loss: 0.1992 - val_acc: 0.9253\n",
      "Epoch 28/75\n",
      "48000/48000 [==============================] - 137s 3ms/step - loss: 0.2177 - acc: 0.9191 - val_loss: 0.1981 - val_acc: 0.9248\n",
      "Epoch 29/75\n",
      "48000/48000 [==============================] - 137s 3ms/step - loss: 0.2152 - acc: 0.9199 - val_loss: 0.1972 - val_acc: 0.9268\n",
      "Epoch 30/75\n",
      "48000/48000 [==============================] - 137s 3ms/step - loss: 0.2146 - acc: 0.9217 - val_loss: 0.1961 - val_acc: 0.9262\n",
      "Epoch 31/75\n",
      "48000/48000 [==============================] - 138s 3ms/step - loss: 0.2043 - acc: 0.9251 - val_loss: 0.1933 - val_acc: 0.9294\n",
      "Epoch 32/75\n",
      "48000/48000 [==============================] - 137s 3ms/step - loss: 0.2055 - acc: 0.9238 - val_loss: 0.2020 - val_acc: 0.9250\n",
      "Epoch 33/75\n",
      "48000/48000 [==============================] - 137s 3ms/step - loss: 0.2018 - acc: 0.9267 - val_loss: 0.2083 - val_acc: 0.9237\n",
      "Epoch 34/75\n",
      "48000/48000 [==============================] - 137s 3ms/step - loss: 0.1992 - acc: 0.9267 - val_loss: 0.2026 - val_acc: 0.9259\n",
      "Epoch 35/75\n",
      "48000/48000 [==============================] - 137s 3ms/step - loss: 0.1969 - acc: 0.9267 - val_loss: 0.2018 - val_acc: 0.9270\n",
      "Epoch 36/75\n",
      "48000/48000 [==============================] - 137s 3ms/step - loss: 0.1970 - acc: 0.9265 - val_loss: 0.1980 - val_acc: 0.9297\n",
      "Epoch 37/75\n",
      "48000/48000 [==============================] - 137s 3ms/step - loss: 0.1949 - acc: 0.9275 - val_loss: 0.1922 - val_acc: 0.9318\n",
      "Epoch 38/75\n",
      "48000/48000 [==============================] - 137s 3ms/step - loss: 0.1902 - acc: 0.9298 - val_loss: 0.1920 - val_acc: 0.9303\n",
      "Epoch 39/75\n",
      "48000/48000 [==============================] - 137s 3ms/step - loss: 0.1904 - acc: 0.9292 - val_loss: 0.1913 - val_acc: 0.9309\n",
      "Epoch 40/75\n",
      "48000/48000 [==============================] - 137s 3ms/step - loss: 0.1900 - acc: 0.9290 - val_loss: 0.1907 - val_acc: 0.9315\n",
      "Epoch 41/75\n",
      "48000/48000 [==============================] - 137s 3ms/step - loss: 0.1899 - acc: 0.9296 - val_loss: 0.1900 - val_acc: 0.9307\n",
      "Epoch 42/75\n",
      "48000/48000 [==============================] - 137s 3ms/step - loss: 0.1832 - acc: 0.9317 - val_loss: 0.1911 - val_acc: 0.9320\n",
      "Epoch 43/75\n",
      "48000/48000 [==============================] - 137s 3ms/step - loss: 0.1839 - acc: 0.9307 - val_loss: 0.1887 - val_acc: 0.9317\n",
      "Epoch 44/75\n",
      "48000/48000 [==============================] - 137s 3ms/step - loss: 0.1806 - acc: 0.9328 - val_loss: 0.1940 - val_acc: 0.9290\n",
      "Epoch 45/75\n",
      "48000/48000 [==============================] - 137s 3ms/step - loss: 0.1787 - acc: 0.9335 - val_loss: 0.1915 - val_acc: 0.9284\n",
      "Epoch 46/75\n",
      "48000/48000 [==============================] - 137s 3ms/step - loss: 0.1772 - acc: 0.9342 - val_loss: 0.1905 - val_acc: 0.9308\n",
      "Epoch 47/75\n",
      "48000/48000 [==============================] - 138s 3ms/step - loss: 0.1781 - acc: 0.9352 - val_loss: 0.1924 - val_acc: 0.9314\n",
      "Epoch 48/75\n",
      "48000/48000 [==============================] - 137s 3ms/step - loss: 0.1724 - acc: 0.9353 - val_loss: 0.1898 - val_acc: 0.9323\n",
      "Epoch 49/75\n",
      "48000/48000 [==============================] - 137s 3ms/step - loss: 0.1725 - acc: 0.9351 - val_loss: 0.1877 - val_acc: 0.9330\n",
      "Epoch 50/75\n",
      "48000/48000 [==============================] - 137s 3ms/step - loss: 0.1736 - acc: 0.9364 - val_loss: 0.1886 - val_acc: 0.9331\n",
      "Epoch 51/75\n",
      "48000/48000 [==============================] - 137s 3ms/step - loss: 0.1732 - acc: 0.9357 - val_loss: 0.1902 - val_acc: 0.9322\n",
      "Epoch 52/75\n",
      "48000/48000 [==============================] - 137s 3ms/step - loss: 0.1711 - acc: 0.9356 - val_loss: 0.1868 - val_acc: 0.9357\n",
      "Epoch 53/75\n",
      "48000/48000 [==============================] - 137s 3ms/step - loss: 0.1702 - acc: 0.9360 - val_loss: 0.1843 - val_acc: 0.9350\n",
      "Epoch 54/75\n",
      "48000/48000 [==============================] - 137s 3ms/step - loss: 0.1738 - acc: 0.9348 - val_loss: 0.1874 - val_acc: 0.9343\n",
      "Epoch 55/75\n",
      "48000/48000 [==============================] - 137s 3ms/step - loss: 0.1677 - acc: 0.9364 - val_loss: 0.1850 - val_acc: 0.9348\n",
      "Epoch 56/75\n",
      "48000/48000 [==============================] - 137s 3ms/step - loss: 0.1689 - acc: 0.9360 - val_loss: 0.1850 - val_acc: 0.9340\n",
      "Epoch 57/75\n",
      "48000/48000 [==============================] - 137s 3ms/step - loss: 0.1685 - acc: 0.9362 - val_loss: 0.1845 - val_acc: 0.9345\n",
      "Epoch 58/75\n",
      "48000/48000 [==============================] - 137s 3ms/step - loss: 0.1650 - acc: 0.9388 - val_loss: 0.1879 - val_acc: 0.9337\n",
      "Epoch 59/75\n",
      "48000/48000 [==============================] - 137s 3ms/step - loss: 0.1642 - acc: 0.9377 - val_loss: 0.1827 - val_acc: 0.9339\n",
      "Epoch 60/75\n",
      "48000/48000 [==============================] - 137s 3ms/step - loss: 0.1622 - acc: 0.9381 - val_loss: 0.1848 - val_acc: 0.9346\n",
      "Epoch 61/75\n",
      "48000/48000 [==============================] - 137s 3ms/step - loss: 0.1610 - acc: 0.9389 - val_loss: 0.1917 - val_acc: 0.9343\n",
      "Epoch 62/75\n",
      "48000/48000 [==============================] - 137s 3ms/step - loss: 0.1588 - acc: 0.9410 - val_loss: 0.1883 - val_acc: 0.9350\n",
      "Epoch 63/75\n",
      "48000/48000 [==============================] - 137s 3ms/step - loss: 0.1588 - acc: 0.9403 - val_loss: 0.1864 - val_acc: 0.9355\n",
      "Epoch 64/75\n",
      "48000/48000 [==============================] - 137s 3ms/step - loss: 0.1603 - acc: 0.9387 - val_loss: 0.1856 - val_acc: 0.9352\n",
      "Epoch 65/75\n",
      "48000/48000 [==============================] - 137s 3ms/step - loss: 0.1570 - acc: 0.9406 - val_loss: 0.1851 - val_acc: 0.9350\n",
      "Epoch 66/75\n",
      "48000/48000 [==============================] - 137s 3ms/step - loss: 0.1542 - acc: 0.9418 - val_loss: 0.1876 - val_acc: 0.9342\n",
      "Epoch 67/75\n",
      "48000/48000 [==============================] - 137s 3ms/step - loss: 0.1592 - acc: 0.9412 - val_loss: 0.1872 - val_acc: 0.9343\n",
      "Epoch 68/75\n",
      "48000/48000 [==============================] - 137s 3ms/step - loss: 0.1531 - acc: 0.9423 - val_loss: 0.1866 - val_acc: 0.9346\n",
      "Epoch 69/75\n",
      "48000/48000 [==============================] - 137s 3ms/step - loss: 0.1533 - acc: 0.9429 - val_loss: 0.1842 - val_acc: 0.9353\n",
      "Epoch 70/75\n",
      "48000/48000 [==============================] - 137s 3ms/step - loss: 0.1546 - acc: 0.9416 - val_loss: 0.1904 - val_acc: 0.9347\n",
      "Epoch 71/75\n",
      "48000/48000 [==============================] - 137s 3ms/step - loss: 0.1515 - acc: 0.9409 - val_loss: 0.1927 - val_acc: 0.9338\n",
      "Epoch 72/75\n",
      "48000/48000 [==============================] - 138s 3ms/step - loss: 0.1519 - acc: 0.9420 - val_loss: 0.1915 - val_acc: 0.9352\n",
      "Epoch 73/75\n",
      "48000/48000 [==============================] - 137s 3ms/step - loss: 0.1531 - acc: 0.9425 - val_loss: 0.1933 - val_acc: 0.9339\n",
      "Epoch 74/75\n",
      "48000/48000 [==============================] - 137s 3ms/step - loss: 0.1487 - acc: 0.9432 - val_loss: 0.1924 - val_acc: 0.9355\n",
      "Epoch 75/75\n",
      "48000/48000 [==============================] - 137s 3ms/step - loss: 0.1502 - acc: 0.9432 - val_loss: 0.1895 - val_acc: 0.9338\n"
     ]
    },
    {
     "data": {
      "text/plain": [
       "<keras.callbacks.History at 0x1f28d3bceb8>"
      ]
     },
     "execution_count": 7,
     "metadata": {},
     "output_type": "execute_result"
    }
   ],
   "source": [
    "cnn_model.fit(\n",
    "    x_train, y_train, batch_size=batch_size,\n",
    "    epochs=75, verbose=1,\n",
    "    validation_data=(x_validate,y_validate),\n",
    "    callbacks=[tensorboard]\n",
    ")"
   ]
  },
  {
   "cell_type": "code",
   "execution_count": 8,
   "metadata": {},
   "outputs": [
    {
     "name": "stdout",
     "output_type": "stream",
     "text": [
      "test loss : 0.178582\n",
      "test score : 0.939600\n"
     ]
    }
   ],
   "source": [
    "score = cnn_model.evaluate(x_test,y_test,verbose=0)\n",
    "\n",
    "print('test loss : {:4f}'.format(score[0]))\n",
    "print('test score : {:4f}'.format(score[1]))"
   ]
  },
  {
   "cell_type": "code",
   "execution_count": null,
   "metadata": {},
   "outputs": [],
   "source": []
  }
 ],
 "metadata": {
  "kernelspec": {
   "display_name": "Python 3",
   "language": "python",
   "name": "python3"
  },
  "language_info": {
   "codemirror_mode": {
    "name": "ipython",
    "version": 3
   },
   "file_extension": ".py",
   "mimetype": "text/x-python",
   "name": "python",
   "nbconvert_exporter": "python",
   "pygments_lexer": "ipython3",
   "version": "3.6.1"
  }
 },
 "nbformat": 4,
 "nbformat_minor": 2
}
